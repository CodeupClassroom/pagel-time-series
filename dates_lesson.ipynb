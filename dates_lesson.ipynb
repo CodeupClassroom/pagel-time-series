{
 "cells": [
  {
   "cell_type": "markdown",
   "id": "45906b26",
   "metadata": {},
   "source": [
    "# Working With Dates in Pandas"
   ]
  },
  {
   "cell_type": "markdown",
   "id": "bdd609ec",
   "metadata": {},
   "source": [
    "What is it?\n",
    "- this is focusing on all the ways we can manipulate dates in pandas\n",
    "\n",
    "Why do we care?\n",
    "- being able to manipulate dates will allow us to prepare the data to analyze trends over time"
   ]
  },
  {
   "cell_type": "code",
   "execution_count": null,
   "id": "14d2adb4",
   "metadata": {},
   "outputs": [],
   "source": [
    "import pandas as pd\n",
    "import numpy as np\n",
    "\n",
    "import matplotlib.pyplot as plt"
   ]
  },
  {
   "cell_type": "markdown",
   "id": "f54c36ad",
   "metadata": {},
   "source": [
    "## Create your own date"
   ]
  },
  {
   "cell_type": "markdown",
   "id": "8c407a12",
   "metadata": {},
   "source": [
    "#### using pandas"
   ]
  },
  {
   "cell_type": "code",
   "execution_count": null,
   "id": "b38f96a0",
   "metadata": {},
   "outputs": [],
   "source": [
    "#with Timestamp()\n"
   ]
  },
  {
   "cell_type": "code",
   "execution_count": null,
   "id": "59c9439c",
   "metadata": {},
   "outputs": [],
   "source": []
  },
  {
   "cell_type": "markdown",
   "id": "71c34911",
   "metadata": {},
   "source": [
    "#### using datetime module from datetime library"
   ]
  },
  {
   "cell_type": "code",
   "execution_count": null,
   "id": "2b108f08",
   "metadata": {},
   "outputs": [],
   "source": [
    "#import\n"
   ]
  },
  {
   "cell_type": "code",
   "execution_count": null,
   "id": "8a76627d",
   "metadata": {},
   "outputs": [],
   "source": [
    "#with datetime()\n"
   ]
  },
  {
   "cell_type": "code",
   "execution_count": null,
   "id": "d5b536d7",
   "metadata": {},
   "outputs": [],
   "source": [
    "#datatype\n"
   ]
  },
  {
   "cell_type": "markdown",
   "id": "1b5b4320",
   "metadata": {},
   "source": [
    "#### calculate now (using datetime module)"
   ]
  },
  {
   "cell_type": "code",
   "execution_count": null,
   "id": "12e5a948",
   "metadata": {},
   "outputs": [],
   "source": []
  },
  {
   "cell_type": "code",
   "execution_count": null,
   "id": "fb1e3610",
   "metadata": {},
   "outputs": [],
   "source": [
    "#datatype\n"
   ]
  },
  {
   "cell_type": "markdown",
   "id": "e028db2b",
   "metadata": {},
   "source": [
    "## Add/subtract dates"
   ]
  },
  {
   "cell_type": "markdown",
   "id": "5f90072e",
   "metadata": {},
   "source": [
    "#### subtract two dates"
   ]
  },
  {
   "cell_type": "code",
   "execution_count": null,
   "id": "2d5934b9",
   "metadata": {},
   "outputs": [],
   "source": []
  },
  {
   "cell_type": "code",
   "execution_count": null,
   "id": "be21b262",
   "metadata": {},
   "outputs": [],
   "source": []
  },
  {
   "cell_type": "markdown",
   "id": "d5004e8d",
   "metadata": {},
   "source": [
    "#### use Timedelta to alter a date"
   ]
  },
  {
   "cell_type": "code",
   "execution_count": null,
   "id": "768e1d35",
   "metadata": {},
   "outputs": [],
   "source": []
  },
  {
   "cell_type": "code",
   "execution_count": null,
   "id": "a2fb7e6f",
   "metadata": {},
   "outputs": [],
   "source": []
  },
  {
   "cell_type": "markdown",
   "id": "85b1a110",
   "metadata": {},
   "source": [
    "## Transform to date format"
   ]
  },
  {
   "cell_type": "markdown",
   "id": "808ba06c",
   "metadata": {},
   "source": [
    "### One date"
   ]
  },
  {
   "cell_type": "code",
   "execution_count": null,
   "id": "46a87ccf",
   "metadata": {},
   "outputs": [],
   "source": [
    "date = 'Jan 1 1970'"
   ]
  },
  {
   "cell_type": "code",
   "execution_count": null,
   "id": "b26e0f4c",
   "metadata": {},
   "outputs": [],
   "source": [
    "#datatype\n"
   ]
  },
  {
   "cell_type": "code",
   "execution_count": null,
   "id": "6448efb4",
   "metadata": {},
   "outputs": [],
   "source": [
    "#use pd.to_datetime() to convert\n"
   ]
  },
  {
   "cell_type": "code",
   "execution_count": null,
   "id": "9f8944b4",
   "metadata": {},
   "outputs": [],
   "source": [
    "#datatype\n"
   ]
  },
  {
   "cell_type": "markdown",
   "id": "8ed500df",
   "metadata": {},
   "source": [
    "### One date, but confuse pandas"
   ]
  },
  {
   "cell_type": "code",
   "execution_count": null,
   "id": "d07c9210",
   "metadata": {},
   "outputs": [],
   "source": [
    "date = 'Jan:7:1970'"
   ]
  },
  {
   "cell_type": "code",
   "execution_count": null,
   "id": "df975872",
   "metadata": {},
   "outputs": [],
   "source": [
    "#datatype\n"
   ]
  },
  {
   "cell_type": "code",
   "execution_count": null,
   "id": "fca2920e",
   "metadata": {},
   "outputs": [],
   "source": [
    "#use pd.to_datetime() to convert\n"
   ]
  },
  {
   "cell_type": "markdown",
   "id": "2a2fc252",
   "metadata": {},
   "source": [
    "We can fix this error using the `format` argument.\n",
    "\n",
    "For info on formatting: https://docs.python.org/3/library/datetime.html#strftime-and-strptime-behavior"
   ]
  },
  {
   "cell_type": "code",
   "execution_count": null,
   "id": "84b92c68",
   "metadata": {},
   "outputs": [],
   "source": [
    "#use format arguement\n"
   ]
  },
  {
   "cell_type": "markdown",
   "id": "0797ab64",
   "metadata": {},
   "source": [
    "#### using `strftime` to reformat date to more readable version"
   ]
  },
  {
   "cell_type": "code",
   "execution_count": null,
   "id": "8ac45497",
   "metadata": {},
   "outputs": [],
   "source": []
  },
  {
   "cell_type": "code",
   "execution_count": null,
   "id": "33df2292",
   "metadata": {},
   "outputs": [],
   "source": [
    "#datatype\n"
   ]
  },
  {
   "cell_type": "markdown",
   "id": "438721b8",
   "metadata": {},
   "source": [
    "### Now a whole columns of dates"
   ]
  },
  {
   "cell_type": "markdown",
   "id": "d43d50e7",
   "metadata": {},
   "source": [
    "Data: the amount of coffee consumed per day"
   ]
  },
  {
   "cell_type": "code",
   "execution_count": null,
   "id": "b6f7272c",
   "metadata": {},
   "outputs": [],
   "source": [
    "url = \"https://gist.githubusercontent.com/ryanorsinger/\\\n",
    "b309f8db19e0ca71b213d4877d835e77/raw/f5841017310e2f4ca070b313529ceec2375336ba/coffee_consumption.csv\"\n",
    "df = pd.read_csv(url)"
   ]
  },
  {
   "cell_type": "code",
   "execution_count": null,
   "id": "9c508055",
   "metadata": {},
   "outputs": [],
   "source": [
    "#look at data\n"
   ]
  },
  {
   "cell_type": "code",
   "execution_count": null,
   "id": "9aece94f",
   "metadata": {},
   "outputs": [],
   "source": [
    "#datatypes\n"
   ]
  },
  {
   "cell_type": "code",
   "execution_count": null,
   "id": "ab45df35",
   "metadata": {},
   "outputs": [],
   "source": [
    "#use pd.to_datetime() to convert\n"
   ]
  },
  {
   "cell_type": "code",
   "execution_count": null,
   "id": "dd676fcb",
   "metadata": {},
   "outputs": [],
   "source": [
    "#can also use .astype() to convert\n"
   ]
  },
  {
   "cell_type": "markdown",
   "id": "3a36d05f",
   "metadata": {},
   "source": [
    "<div class=\"alert alert-block alert-info\"> <b>NOTE:</b> use pd.to_datetime when you have weird dates, so you can use the format argument </div>"
   ]
  },
  {
   "cell_type": "code",
   "execution_count": null,
   "id": "63a498c9",
   "metadata": {},
   "outputs": [],
   "source": [
    "#datatypes\n"
   ]
  },
  {
   "cell_type": "markdown",
   "id": "9a040d94",
   "metadata": {},
   "source": [
    "## Now that they are in a date format, let's manipulate them"
   ]
  },
  {
   "cell_type": "code",
   "execution_count": null,
   "id": "237302cf",
   "metadata": {},
   "outputs": [],
   "source": []
  },
  {
   "cell_type": "markdown",
   "id": "e4c6c72f",
   "metadata": {},
   "source": [
    "### extract pieces of the date"
   ]
  },
  {
   "cell_type": "markdown",
   "id": "d9f9b57f",
   "metadata": {},
   "source": [
    "<div class=\"alert alert-block alert-info\"> <b>NOTE:</b> use <code>.dt</code> when using datetime methods/attributes on a series (just like using <code>.str</code>when using string functions) </div>"
   ]
  },
  {
   "cell_type": "markdown",
   "id": "ebe680af",
   "metadata": {},
   "source": [
    "the documentation: https://pandas.pydata.org/docs/reference/api/pandas.DatetimeIndex.html"
   ]
  },
  {
   "cell_type": "code",
   "execution_count": null,
   "id": "eeb160ee",
   "metadata": {},
   "outputs": [],
   "source": []
  },
  {
   "cell_type": "code",
   "execution_count": null,
   "id": "50696e9c",
   "metadata": {},
   "outputs": [],
   "source": []
  },
  {
   "cell_type": "markdown",
   "id": "be308997",
   "metadata": {},
   "source": [
    "### add them back to our initial dataframe"
   ]
  },
  {
   "cell_type": "code",
   "execution_count": null,
   "id": "0f185684",
   "metadata": {},
   "outputs": [],
   "source": [
    "#add them all\n"
   ]
  },
  {
   "cell_type": "code",
   "execution_count": null,
   "id": "f9e3684b",
   "metadata": {},
   "outputs": [],
   "source": []
  },
  {
   "cell_type": "markdown",
   "id": "c8065bef",
   "metadata": {},
   "source": [
    "### reformat date using `strftime()`"
   ]
  },
  {
   "cell_type": "code",
   "execution_count": null,
   "id": "65dbc938",
   "metadata": {},
   "outputs": [],
   "source": []
  },
  {
   "cell_type": "code",
   "execution_count": null,
   "id": "f00365e1",
   "metadata": {},
   "outputs": [],
   "source": []
  },
  {
   "cell_type": "markdown",
   "id": "13626d99",
   "metadata": {},
   "source": [
    "## Mini exercise \n",
    "\n",
    "1. import the datetime module from the datetime library\n",
    "2. convert the date column to a datetime\n",
    "3. subtract one day from each date\n",
    "4. reformat the dates as \"Sun - March 26, 2022\"\n"
   ]
  },
  {
   "cell_type": "code",
   "execution_count": null,
   "id": "7b504480",
   "metadata": {},
   "outputs": [],
   "source": [
    "url = 'https://gist.githubusercontent.com/misty-garcia/\\\n",
    "8c099128d3f59c32afaa5aa2c3e4fb62/raw/2a4c06ea955266e276a78af5d2e1083cfd348703/mockdates'\n",
    "\n",
    "df = pd.read_csv(url,sep='\\t')"
   ]
  },
  {
   "cell_type": "code",
   "execution_count": null,
   "id": "3bd4e3f7",
   "metadata": {},
   "outputs": [],
   "source": []
  },
  {
   "cell_type": "markdown",
   "id": "d49ffd4d",
   "metadata": {},
   "source": [
    "## Time to make it more complex!"
   ]
  },
  {
   "cell_type": "markdown",
   "id": "e21db49f",
   "metadata": {},
   "source": [
    "Scenario: We're looking at cryptocurrency close value and volume over time. "
   ]
  },
  {
   "cell_type": "code",
   "execution_count": null,
   "id": "227f827e",
   "metadata": {},
   "outputs": [],
   "source": [
    "#save url\n",
    "sheet_url = 'https://docs.google.com/spreadsheets/d/1kTrAFSrr-xP3REs0Lly0TdV4ekrHahBXLg9r5qKxmV8/edit#gid=0'\n",
    "csv_export_url = sheet_url.replace('/edit#gid=', '/export?format=csv&gid=')\n",
    "\n",
    "#read in df\n",
    "df = pd.read_csv(csv_export_url)\n",
    "df"
   ]
  },
  {
   "cell_type": "code",
   "execution_count": null,
   "id": "ff40b314",
   "metadata": {},
   "outputs": [],
   "source": []
  },
  {
   "cell_type": "code",
   "execution_count": null,
   "id": "896f91c9",
   "metadata": {},
   "outputs": [],
   "source": [
    "#lowercase columns\n"
   ]
  },
  {
   "cell_type": "markdown",
   "id": "bc4c1edf",
   "metadata": {},
   "source": [
    "#### let's plot the our close value"
   ]
  },
  {
   "cell_type": "code",
   "execution_count": null,
   "id": "70b54804",
   "metadata": {},
   "outputs": [],
   "source": [
    "#distribution\n",
    "\n",
    "# plt.title('close')\n",
    "# plt.show()"
   ]
  },
  {
   "cell_type": "code",
   "execution_count": null,
   "id": "dff192c9",
   "metadata": {},
   "outputs": [],
   "source": [
    "#line plot\n",
    "\n",
    "# plt.title('the close values on a plot')\n",
    "# plt.show()"
   ]
  },
  {
   "cell_type": "markdown",
   "id": "71b6bb22",
   "metadata": {},
   "source": [
    "<div class=\"alert alert-block alert-info\"> \n",
    "    \n",
    "<b>NOTE:</b> when we plot a single series using .plot(), the x-axis is the index value \n",
    "\n",
    "</div> \n",
    " \n",
    " "
   ]
  },
  {
   "cell_type": "markdown",
   "id": "b8d28d78",
   "metadata": {},
   "source": [
    "## How do we make pandas time aware?\n",
    "\n",
    "1. Convert 'date' column to datetime object\n",
    "2. Set the datetime column as index\n",
    "3. Sort the datetime index"
   ]
  },
  {
   "cell_type": "markdown",
   "id": "4a608f40",
   "metadata": {},
   "source": [
    "### 1. Convert 'date' column to datetime object"
   ]
  },
  {
   "cell_type": "code",
   "execution_count": null,
   "id": "08fc5f8d",
   "metadata": {},
   "outputs": [],
   "source": []
  },
  {
   "cell_type": "code",
   "execution_count": null,
   "id": "ad0e33fe",
   "metadata": {},
   "outputs": [],
   "source": []
  },
  {
   "cell_type": "markdown",
   "id": "86e9329b",
   "metadata": {},
   "source": [
    "Reminder: format argument allows us to tell pandas the makeup of our date, so it can be understood"
   ]
  },
  {
   "cell_type": "code",
   "execution_count": null,
   "id": "2aa54bdb",
   "metadata": {},
   "outputs": [],
   "source": []
  },
  {
   "cell_type": "code",
   "execution_count": null,
   "id": "c93e5c41",
   "metadata": {},
   "outputs": [],
   "source": []
  },
  {
   "cell_type": "markdown",
   "id": "619f13ef",
   "metadata": {},
   "source": [
    "### 2. Set the datetime column as index"
   ]
  },
  {
   "cell_type": "code",
   "execution_count": null,
   "id": "c9c77f4f",
   "metadata": {},
   "outputs": [],
   "source": []
  },
  {
   "cell_type": "markdown",
   "id": "95a06a90",
   "metadata": {},
   "source": [
    "### 3. Sort the datetime index"
   ]
  },
  {
   "cell_type": "code",
   "execution_count": null,
   "id": "46b9cb5a",
   "metadata": {},
   "outputs": [],
   "source": []
  },
  {
   "cell_type": "markdown",
   "id": "d43dce22",
   "metadata": {},
   "source": [
    "#### Now let's plot it again!"
   ]
  },
  {
   "cell_type": "code",
   "execution_count": null,
   "id": "b28f64b6",
   "metadata": {},
   "outputs": [],
   "source": [
    "#line plot\n",
    "\n",
    "# plt.title('the close value over time')\n",
    "# plt.show()"
   ]
  },
  {
   "cell_type": "markdown",
   "id": "f7dab61f",
   "metadata": {},
   "source": [
    "Q: Why is the graph different now?"
   ]
  },
  {
   "cell_type": "markdown",
   "id": "6198598c",
   "metadata": {},
   "source": [
    "## Let's look at the the mean close value on each day of the week"
   ]
  },
  {
   "cell_type": "markdown",
   "id": "cfe2e01b",
   "metadata": {},
   "source": [
    "<div class=\"alert alert-block alert-info\"> <b>NOTE:</b> when the datetime is an index, we don't use <code>.dt</code> to use datetime methods/attributes</div>"
   ]
  },
  {
   "cell_type": "code",
   "execution_count": null,
   "id": "81744a87",
   "metadata": {},
   "outputs": [],
   "source": [
    "#pull out weekday name & save\n"
   ]
  },
  {
   "cell_type": "code",
   "execution_count": null,
   "id": "dc961ec6",
   "metadata": {},
   "outputs": [],
   "source": []
  },
  {
   "cell_type": "code",
   "execution_count": null,
   "id": "a19a7f44",
   "metadata": {},
   "outputs": [],
   "source": []
  },
  {
   "cell_type": "markdown",
   "id": "64d68b78",
   "metadata": {},
   "source": [
    "#### let's plot it!"
   ]
  },
  {
   "cell_type": "code",
   "execution_count": null,
   "id": "cc869953",
   "metadata": {},
   "outputs": [],
   "source": [
    "# plt.figure(figsize=(10,6))\n",
    "\n",
    "\n",
    "# plt.title('the mean close value each day of the week')\n",
    "# plt.show()"
   ]
  },
  {
   "cell_type": "markdown",
   "id": "8a8054b0",
   "metadata": {},
   "source": [
    "### I don't like that the days aren't in order"
   ]
  },
  {
   "cell_type": "code",
   "execution_count": null,
   "id": "fabbdccb",
   "metadata": {},
   "outputs": [],
   "source": [
    "#use dayofweek attribute\n"
   ]
  },
  {
   "cell_type": "code",
   "execution_count": null,
   "id": "4cf61da6",
   "metadata": {},
   "outputs": [],
   "source": []
  },
  {
   "cell_type": "markdown",
   "id": "38561135",
   "metadata": {},
   "source": [
    "#### let's plot it better this time!"
   ]
  },
  {
   "cell_type": "code",
   "execution_count": null,
   "id": "94093c17",
   "metadata": {},
   "outputs": [],
   "source": [
    "# plt.figure(figsize=(10,6))\n",
    "\n",
    "\n",
    "# plt.title('the mean close value each day of the week')\n",
    "# plt.show()"
   ]
  },
  {
   "cell_type": "markdown",
   "id": "d252d632",
   "metadata": {},
   "source": [
    "## How do we get a subset of the dataframe?"
   ]
  },
  {
   "cell_type": "markdown",
   "id": "07863eb8",
   "metadata": {},
   "source": [
    "`.loc` vs `.iloc`\n",
    "\n",
    "- loc subsets based on NAME\n",
    "- iloc subsets based on POSITION\n",
    "\n",
    "Why is this helpful?\n",
    "- we can use `.loc` to name a date or range of dates to subset our df"
   ]
  },
  {
   "cell_type": "code",
   "execution_count": null,
   "id": "f5361e39",
   "metadata": {},
   "outputs": [],
   "source": [
    "#single .loc value\n"
   ]
  },
  {
   "cell_type": "code",
   "execution_count": null,
   "id": "7d68da1d",
   "metadata": {},
   "outputs": [],
   "source": []
  },
  {
   "cell_type": "code",
   "execution_count": null,
   "id": "4861d432",
   "metadata": {},
   "outputs": [],
   "source": [
    "#range of .loc values\n"
   ]
  },
  {
   "cell_type": "markdown",
   "id": "308b5bcc",
   "metadata": {},
   "source": [
    "## What if we want a different period of data?\n",
    "- downsampling\n",
    "- upsampling\n",
    "- resampling\n",
    "- rolling averages\n",
    "- shift/difference"
   ]
  },
  {
   "cell_type": "code",
   "execution_count": null,
   "id": "273129be",
   "metadata": {},
   "outputs": [],
   "source": [
    "#drop extra columns\n"
   ]
  },
  {
   "cell_type": "markdown",
   "id": "41461902",
   "metadata": {},
   "source": [
    "### Downsampling: reduce frequency"
   ]
  },
  {
   "cell_type": "markdown",
   "id": "ce965e23",
   "metadata": {},
   "source": [
    "reduce the number of rows by removing more precise units of time\n",
    "- use `asfreq` to change the period"
   ]
  },
  {
   "cell_type": "markdown",
   "id": "f65a16ec",
   "metadata": {},
   "source": [
    "#### Example: the level of granularity of our data is currently to the hour"
   ]
  },
  {
   "cell_type": "code",
   "execution_count": null,
   "id": "6f0fda5a",
   "metadata": {},
   "outputs": [],
   "source": []
  },
  {
   "cell_type": "markdown",
   "id": "14766a90",
   "metadata": {},
   "source": [
    "#### reduce granularity"
   ]
  },
  {
   "cell_type": "code",
   "execution_count": null,
   "id": "8e746f45",
   "metadata": {},
   "outputs": [],
   "source": [
    "#set frequency to daily\n"
   ]
  },
  {
   "cell_type": "code",
   "execution_count": null,
   "id": "dffd13ee",
   "metadata": {},
   "outputs": [],
   "source": [
    "#set frequency to monthly\n"
   ]
  },
  {
   "cell_type": "markdown",
   "id": "1abdb9c8",
   "metadata": {},
   "source": [
    "### Upsampling: Increase frequency\n",
    "increase the number of rows by adding more precise units of time\n",
    "- use `asfreq` to change the period (same as before)"
   ]
  },
  {
   "cell_type": "markdown",
   "id": "a4f8f2c6",
   "metadata": {},
   "source": [
    "#### Example: the level of granularity of our data is currently to the hour"
   ]
  },
  {
   "cell_type": "code",
   "execution_count": null,
   "id": "7dd88ff6",
   "metadata": {},
   "outputs": [],
   "source": []
  },
  {
   "cell_type": "markdown",
   "id": "f7178d86",
   "metadata": {},
   "source": [
    "#### increase granularity"
   ]
  },
  {
   "cell_type": "code",
   "execution_count": null,
   "id": "d6d52abe",
   "metadata": {
    "scrolled": true
   },
   "outputs": [],
   "source": [
    "#set frequency to minutes\n"
   ]
  },
  {
   "cell_type": "markdown",
   "id": "2f37896b",
   "metadata": {},
   "source": [
    "#### fill the nulls that were generated"
   ]
  },
  {
   "cell_type": "markdown",
   "id": "6ee41efb",
   "metadata": {},
   "source": [
    "'ffill' = forward fill\n",
    "\n",
    "'bfill' = backward fill"
   ]
  },
  {
   "cell_type": "code",
   "execution_count": null,
   "id": "dfa3ee4d",
   "metadata": {},
   "outputs": [],
   "source": [
    "#use ffill method\n"
   ]
  },
  {
   "cell_type": "code",
   "execution_count": null,
   "id": "ac2775b2",
   "metadata": {},
   "outputs": [],
   "source": [
    "# use bfill method\n"
   ]
  },
  {
   "cell_type": "markdown",
   "id": "22e109f6",
   "metadata": {},
   "source": [
    "### Resampling - Aggregating over time\n",
    "select a level of granularity and get an aggregated value from it"
   ]
  },
  {
   "cell_type": "code",
   "execution_count": null,
   "id": "17078c70",
   "metadata": {},
   "outputs": [],
   "source": []
  },
  {
   "cell_type": "code",
   "execution_count": null,
   "id": "e643476b",
   "metadata": {},
   "outputs": [],
   "source": [
    "#get the daily mean\n"
   ]
  },
  {
   "cell_type": "code",
   "execution_count": null,
   "id": "2e039916",
   "metadata": {},
   "outputs": [],
   "source": [
    "#get mean, min, max\n"
   ]
  },
  {
   "cell_type": "markdown",
   "id": "1b946cd4",
   "metadata": {},
   "source": [
    "#### let's plot it!"
   ]
  },
  {
   "cell_type": "code",
   "execution_count": null,
   "id": "0aba849a",
   "metadata": {},
   "outputs": [],
   "source": [
    "# plt.figure(figsize=(14,10))\n",
    "\n",
    "\n",
    "# plt.title('plotting close over time with various resampling techniques')\n",
    "# plt.legend()\n",
    "# plt.show()"
   ]
  },
  {
   "cell_type": "markdown",
   "id": "61e868b3",
   "metadata": {},
   "source": [
    "### Rolling averages"
   ]
  },
  {
   "cell_type": "markdown",
   "id": "d69492fd",
   "metadata": {},
   "source": [
    "used to smooth out short-term fluctuations in time series data and highlight long-term trends\n",
    "- use `rolling()` to calculate"
   ]
  },
  {
   "cell_type": "code",
   "execution_count": null,
   "id": "97548cbf",
   "metadata": {},
   "outputs": [],
   "source": [
    "#use the rolling function\n"
   ]
  },
  {
   "cell_type": "code",
   "execution_count": null,
   "id": "f694fcf3",
   "metadata": {},
   "outputs": [],
   "source": []
  },
  {
   "cell_type": "markdown",
   "id": "729f6fc8",
   "metadata": {},
   "source": [
    "> the rolling average is the previous number of units averaged together  \n",
    "> in this example, the rolling average on 2017-07-05 is the average of 2017-07-01 - 2017-07-05"
   ]
  },
  {
   "cell_type": "markdown",
   "id": "8e8e95e4",
   "metadata": {},
   "source": [
    "#### let's plot it!"
   ]
  },
  {
   "cell_type": "code",
   "execution_count": null,
   "id": "0fb2c423",
   "metadata": {},
   "outputs": [],
   "source": [
    "# plt.figure(figsize=(12,8))\n",
    "\n",
    "#original granularity\n",
    "\n",
    "#resample by week and look at 4 weeks \n",
    "\n",
    "#resample by week and look at 12 weeks \n",
    "\n",
    "# plt.legend()\n",
    "# plt.title('original vs rolling averages')\n",
    "# plt.show()"
   ]
  },
  {
   "cell_type": "markdown",
   "id": "39c41b9d",
   "metadata": {},
   "source": [
    "### How about Lagging or Leading the data?\n",
    "\n",
    "* `.shift`: move the data backwards and forwards by a given amount\n",
    "* `.diff`: find the difference with the previous observation (or a specified further back observation)"
   ]
  },
  {
   "cell_type": "code",
   "execution_count": null,
   "id": "642514e4",
   "metadata": {},
   "outputs": [],
   "source": []
  },
  {
   "cell_type": "code",
   "execution_count": null,
   "id": "7f5ac3c7",
   "metadata": {},
   "outputs": [],
   "source": [
    "#shift by one\n"
   ]
  },
  {
   "cell_type": "code",
   "execution_count": null,
   "id": "28a92b98",
   "metadata": {},
   "outputs": [],
   "source": [
    "#shift by negative 1\n"
   ]
  },
  {
   "cell_type": "code",
   "execution_count": null,
   "id": "99523a9f",
   "metadata": {},
   "outputs": [],
   "source": [
    "#difference by one\n"
   ]
  },
  {
   "cell_type": "markdown",
   "id": "2a405102",
   "metadata": {},
   "source": [
    "# Recap"
   ]
  },
  {
   "cell_type": "markdown",
   "id": "453a326b",
   "metadata": {},
   "source": [
    "- use `datetime.datetime` module\n",
    "- to cast as a date\n",
    "    - `.astype('datetime64')`\n",
    "    - `pd.to_datetime()`\n",
    "        - can use `format` argument for funky dates\n",
    "- strftime notation\n",
    "    - https://docs.python.org/3/library/datetime.html#strftime-and-strptime-behavior\n",
    "- attritubes and methods\n",
    "    - https://pandas.pydata.org/docs/reference/api/pandas.DatetimeIndex.html\n",
    "- to make pandas time aware\n",
    "    1. Convert 'date' column to datetime object\n",
    "    2. Set the datetime column as index\n",
    "    3. Sort the datetime index\n",
    "- sampling methods\n",
    "    - downsampling/ upsampling\n",
    "        - `.asfreq()` \n",
    "        - fill nulls\n",
    "            - `.ffill`/`.bfill`\n",
    "    - resampling\n",
    "        - `.resample()`\n",
    "    - rolling average\n",
    "        - `.rolling()`\n",
    "        \n",
    "    "
   ]
  },
  {
   "cell_type": "code",
   "execution_count": null,
   "id": "4061795d",
   "metadata": {},
   "outputs": [],
   "source": []
  }
 ],
 "metadata": {
  "kernelspec": {
   "display_name": "Python 3 (ipykernel)",
   "language": "python",
   "name": "python3"
  },
  "language_info": {
   "codemirror_mode": {
    "name": "ipython",
    "version": 3
   },
   "file_extension": ".py",
   "mimetype": "text/x-python",
   "name": "python",
   "nbconvert_exporter": "python",
   "pygments_lexer": "ipython3",
   "version": "3.9.12"
  },
  "toc": {
   "base_numbering": 1,
   "nav_menu": {},
   "number_sections": false,
   "sideBar": true,
   "skip_h1_title": true,
   "title_cell": "Table of Contents",
   "title_sidebar": "Contents",
   "toc_cell": false,
   "toc_position": {},
   "toc_section_display": true,
   "toc_window_display": false
  }
 },
 "nbformat": 4,
 "nbformat_minor": 5
}
