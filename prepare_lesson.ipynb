{
 "cells": [
  {
   "cell_type": "markdown",
   "id": "00a6e7ff",
   "metadata": {},
   "source": [
    "# Preparing Time Series Data"
   ]
  },
  {
   "cell_type": "markdown",
   "id": "9846e041",
   "metadata": {},
   "source": [
    "What is it?\n",
    "- how we prepare the data specifically for time series data\n",
    "- like most preparation processes, but with the addition of dates!\n",
    "\n",
    "Why do we care?\n",
    "- we want to ensure that pandas is properly aware of dates, so we can investigate trends over time"
   ]
  },
  {
   "cell_type": "code",
   "execution_count": null,
   "id": "025d1adc",
   "metadata": {},
   "outputs": [],
   "source": [
    "import pandas as pd\n",
    "import numpy as np\n",
    "\n",
    "import matplotlib.pyplot as plt\n",
    "import seaborn as sns\n",
    "\n",
    "import env "
   ]
  },
  {
   "cell_type": "markdown",
   "id": "4bc76495",
   "metadata": {},
   "source": [
    "Scenario: Working with store data to predict the sale_amount"
   ]
  },
  {
   "cell_type": "markdown",
   "id": "d082f330",
   "metadata": {},
   "source": [
    "## Acquire"
   ]
  },
  {
   "cell_type": "code",
   "execution_count": null,
   "id": "1512c064",
   "metadata": {},
   "outputs": [],
   "source": [
    "#load my csv\n",
    "df = pd.read_csv('ts_superstore.csv', index_col=0)"
   ]
  },
  {
   "cell_type": "markdown",
   "id": "2a36586d",
   "metadata": {},
   "source": [
    "#### range of dates? "
   ]
  },
  {
   "cell_type": "code",
   "execution_count": null,
   "id": "b36fff1e",
   "metadata": {},
   "outputs": [],
   "source": []
  },
  {
   "cell_type": "code",
   "execution_count": null,
   "id": "8527dd8c",
   "metadata": {},
   "outputs": [],
   "source": []
  },
  {
   "cell_type": "markdown",
   "id": "87fb9168",
   "metadata": {},
   "source": [
    "## Prepare"
   ]
  },
  {
   "cell_type": "markdown",
   "id": "e9bce7bc",
   "metadata": {},
   "source": [
    "for time series data: \n",
    "- make pandas time aware\n",
    "- look at the frequency of the data \n",
    "- look for gaps in time or null values\n",
    "- get to know our data a litte better"
   ]
  },
  {
   "cell_type": "markdown",
   "id": "a3805fae",
   "metadata": {},
   "source": [
    "### make pandas time aware\n",
    "\n",
    "1. Convert 'date' column to datetime object\n",
    "2. Set the datetime column as index\n",
    "3. Sort the datetime index\n",
    "\n",
    "formatting info: https://docs.python.org/3/library/datetime.html#strftime-and-strptime-behavior"
   ]
  },
  {
   "cell_type": "markdown",
   "id": "f639142f",
   "metadata": {},
   "source": [
    "#### 1. Convert 'date' column to datetime object"
   ]
  },
  {
   "cell_type": "code",
   "execution_count": null,
   "id": "b7c06154",
   "metadata": {},
   "outputs": [],
   "source": []
  },
  {
   "cell_type": "code",
   "execution_count": null,
   "id": "56715a62",
   "metadata": {},
   "outputs": [],
   "source": []
  },
  {
   "cell_type": "markdown",
   "id": "96293cc9",
   "metadata": {},
   "source": [
    "#### check for 00:00:00 GMT"
   ]
  },
  {
   "cell_type": "code",
   "execution_count": null,
   "id": "28927094",
   "metadata": {},
   "outputs": [],
   "source": []
  },
  {
   "cell_type": "code",
   "execution_count": null,
   "id": "65bc4096",
   "metadata": {},
   "outputs": [],
   "source": []
  },
  {
   "cell_type": "markdown",
   "id": "855200d9",
   "metadata": {},
   "source": [
    "#### 2. Set the datetime column as Index"
   ]
  },
  {
   "cell_type": "code",
   "execution_count": null,
   "id": "6160acfe",
   "metadata": {},
   "outputs": [],
   "source": []
  },
  {
   "cell_type": "markdown",
   "id": "380e2f63",
   "metadata": {},
   "source": [
    "#### 3. Sort the datetime index"
   ]
  },
  {
   "cell_type": "code",
   "execution_count": null,
   "id": "71b5c2a1",
   "metadata": {},
   "outputs": [],
   "source": []
  },
  {
   "cell_type": "markdown",
   "id": "9a7e0acd",
   "metadata": {},
   "source": [
    "### Frequency of data \n",
    "- how much data do we have for each date?"
   ]
  },
  {
   "cell_type": "code",
   "execution_count": null,
   "id": "ad4cd0c0",
   "metadata": {},
   "outputs": [],
   "source": []
  },
  {
   "cell_type": "code",
   "execution_count": null,
   "id": "0fa5ca19",
   "metadata": {},
   "outputs": [],
   "source": []
  },
  {
   "cell_type": "markdown",
   "id": "e3ceacef",
   "metadata": {},
   "source": [
    "### Check for gaps in time"
   ]
  },
  {
   "cell_type": "code",
   "execution_count": null,
   "id": "81f7fb34",
   "metadata": {},
   "outputs": [],
   "source": [
    "#earliest day\n"
   ]
  },
  {
   "cell_type": "code",
   "execution_count": null,
   "id": "e6e8c70f",
   "metadata": {},
   "outputs": [],
   "source": [
    "#latest day\n"
   ]
  },
  {
   "cell_type": "code",
   "execution_count": null,
   "id": "b459b9ea",
   "metadata": {},
   "outputs": [],
   "source": [
    "#difference between days plus one\n"
   ]
  },
  {
   "cell_type": "code",
   "execution_count": null,
   "id": "96b86b72",
   "metadata": {},
   "outputs": [],
   "source": [
    "#see how many unique days we actually have\n"
   ]
  },
  {
   "cell_type": "code",
   "execution_count": null,
   "id": "b1a17d6f",
   "metadata": {},
   "outputs": [],
   "source": [
    "#dropping days to show gaps in time\n",
    "df_test = df.drop(index=['2017-12-30','2014-01-02','2016-03-28'])"
   ]
  },
  {
   "cell_type": "code",
   "execution_count": null,
   "id": "3f47ff45",
   "metadata": {},
   "outputs": [],
   "source": [
    "#see how many unique days we actually have\n"
   ]
  },
  {
   "cell_type": "code",
   "execution_count": null,
   "id": "c233b374",
   "metadata": {},
   "outputs": [],
   "source": [
    "#establish all the expected dates in our range\n",
    "#pd.daterange()\n"
   ]
  },
  {
   "cell_type": "code",
   "execution_count": null,
   "id": "7cad27c1",
   "metadata": {},
   "outputs": [],
   "source": [
    "#find whats missing between dates\n",
    "#df.difference()\n"
   ]
  },
  {
   "cell_type": "markdown",
   "id": "f3596ca9",
   "metadata": {},
   "source": [
    "## Let's get to know our data a litte better"
   ]
  },
  {
   "cell_type": "markdown",
   "id": "ac00a3cf",
   "metadata": {},
   "source": [
    "Target variable: sale_amount"
   ]
  },
  {
   "cell_type": "markdown",
   "id": "138e700f",
   "metadata": {},
   "source": [
    "- understand what one row is & some of the important columns\n",
    "- does the time frame of our rows make sense?\n",
    "    - does it need to be more or less granular?\n",
    "- investigate the data behind the unique combinations of store & item"
   ]
  },
  {
   "cell_type": "markdown",
   "id": "c7fa39a4",
   "metadata": {},
   "source": [
    "### number of distinct stores? items? sales? sales_dates?"
   ]
  },
  {
   "cell_type": "code",
   "execution_count": null,
   "id": "9313313b",
   "metadata": {},
   "outputs": [],
   "source": []
  },
  {
   "cell_type": "markdown",
   "id": "05e7b3c4",
   "metadata": {},
   "source": [
    "### Is each store equally represented in this dataset?"
   ]
  },
  {
   "cell_type": "code",
   "execution_count": null,
   "id": "ae2c757e",
   "metadata": {},
   "outputs": [],
   "source": []
  },
  {
   "cell_type": "markdown",
   "id": "71850c3c",
   "metadata": {},
   "source": [
    "### Is each item equally represented in this dataset?"
   ]
  },
  {
   "cell_type": "code",
   "execution_count": null,
   "id": "85ee0d53",
   "metadata": {},
   "outputs": [],
   "source": []
  },
  {
   "cell_type": "markdown",
   "id": "8d134ab8",
   "metadata": {},
   "source": [
    "### Plot target variable over time"
   ]
  },
  {
   "cell_type": "code",
   "execution_count": null,
   "id": "13c5a9df",
   "metadata": {},
   "outputs": [],
   "source": []
  },
  {
   "cell_type": "code",
   "execution_count": null,
   "id": "502ef707",
   "metadata": {},
   "outputs": [],
   "source": []
  },
  {
   "cell_type": "code",
   "execution_count": null,
   "id": "7f539f8b",
   "metadata": {},
   "outputs": [],
   "source": [
    "# plt.figure(figsize=(10,6))\n",
    "\n",
    "\n",
    "# plt.title('sale amount over time')\n",
    "# plt.legend()\n",
    "# plt.show()"
   ]
  },
  {
   "cell_type": "markdown",
   "id": "31a38bc4",
   "metadata": {},
   "source": [
    "### what's the first sale date for each store/item combination?"
   ]
  },
  {
   "cell_type": "code",
   "execution_count": null,
   "id": "f6f4022d",
   "metadata": {},
   "outputs": [],
   "source": []
  },
  {
   "cell_type": "code",
   "execution_count": null,
   "id": "c7c0f8f1",
   "metadata": {},
   "outputs": [],
   "source": []
  },
  {
   "cell_type": "markdown",
   "id": "b4109768",
   "metadata": {},
   "source": [
    "### what's the last sale date for each store/item combination?"
   ]
  },
  {
   "cell_type": "code",
   "execution_count": null,
   "id": "59f6fb8a",
   "metadata": {},
   "outputs": [],
   "source": []
  },
  {
   "cell_type": "code",
   "execution_count": null,
   "id": "9c02cd2d",
   "metadata": {},
   "outputs": [],
   "source": []
  },
  {
   "cell_type": "markdown",
   "id": "f02fdcdf",
   "metadata": {},
   "source": [
    "### how many different days were things sold for each store/item combination?"
   ]
  },
  {
   "cell_type": "code",
   "execution_count": null,
   "id": "aeb25b1d",
   "metadata": {},
   "outputs": [],
   "source": []
  },
  {
   "cell_type": "code",
   "execution_count": null,
   "id": "d4643e8f",
   "metadata": {},
   "outputs": [],
   "source": []
  },
  {
   "cell_type": "markdown",
   "id": "80b23404",
   "metadata": {},
   "source": [
    "## Data Splitting\n",
    "Splitting time series data into train, test, and validate sets is a little trickier than with previous data we have looked at. Because the data points have an order to them, we cannot simply assign each point randomly to train, validate, or test.\n",
    "\n",
    "Ideally all splits should contain one season's worth of data. There are several methods we can use to split our time series data:\n",
    "\n",
    "- Human-based: use, for example, the last year in the dataset as test split\n",
    "- Percentage based: use the last 20% as test\n",
    "- Cross Validate: break data up into slices and use successive slices as train and test repeatedly (sklearn.model_selection.TimeSeriesSplit)\n",
    "\n",
    "We'll explore data splitting in more depth in the next lesson.\n",
    "\n"
   ]
  },
  {
   "cell_type": "code",
   "execution_count": null,
   "id": "33421d87",
   "metadata": {},
   "outputs": [],
   "source": []
  }
 ],
 "metadata": {
  "kernelspec": {
   "display_name": "Python 3 (ipykernel)",
   "language": "python",
   "name": "python3"
  },
  "language_info": {
   "codemirror_mode": {
    "name": "ipython",
    "version": 3
   },
   "file_extension": ".py",
   "mimetype": "text/x-python",
   "name": "python",
   "nbconvert_exporter": "python",
   "pygments_lexer": "ipython3",
   "version": "3.9.12"
  },
  "toc": {
   "base_numbering": 1,
   "nav_menu": {},
   "number_sections": false,
   "sideBar": true,
   "skip_h1_title": true,
   "title_cell": "Table of Contents",
   "title_sidebar": "Contents",
   "toc_cell": false,
   "toc_position": {},
   "toc_section_display": true,
   "toc_window_display": false
  }
 },
 "nbformat": 4,
 "nbformat_minor": 5
}
